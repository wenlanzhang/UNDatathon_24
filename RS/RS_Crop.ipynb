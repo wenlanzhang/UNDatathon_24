{
 "cells": [
  {
   "cell_type": "markdown",
   "id": "bc4ac9fe-658b-4462-a1e1-c809d96fe1fa",
   "metadata": {},
   "source": [
    "# Crop Raster to 1024*1024 for Waste identification"
   ]
  },
  {
   "cell_type": "code",
   "execution_count": 1,
   "id": "52db03a6-8b4e-4132-91f7-3b542a009a05",
   "metadata": {},
   "outputs": [],
   "source": [
    "import rasterio\n",
    "from rasterio.windows import Window\n",
    "from PIL import Image\n",
    "import os\n",
    "import csv"
   ]
  },
  {
   "cell_type": "code",
   "execution_count": 2,
   "id": "fb6d2aeb-5cc0-4c4d-9bac-1123c823e2c4",
   "metadata": {},
   "outputs": [],
   "source": [
    "# Define the function to cut the raster into 1024x1024 tiles, convert to JPG with worldfile, and record metadata in CSV\n",
    "def cut_raster_to_jpg_with_csv(input_raster, output_folder, city, tile_size=1024):\n",
    "    # Prepare the output CSV file\n",
    "    csv_file = os.path.join(output_folder, f'{city}_metadata.csv')\n",
    "    csv_fields = ['img_id', 'city', 'tile_row', 'tile_col', 'tile_width', 'tile_height', \n",
    "                  'x_coord', 'y_coord', 'center_point', 'grid_polygon']\n",
    "\n",
    "    # Create the CSV file and write the header\n",
    "    with open(csv_file, 'w', newline='') as csvfile:\n",
    "        writer = csv.DictWriter(csvfile, fieldnames=csv_fields)\n",
    "        writer.writeheader()\n",
    "\n",
    "        with rasterio.open(input_raster) as src:\n",
    "            width = src.width\n",
    "            height = src.height\n",
    "\n",
    "            # Calculate number of tiles in both dimensions\n",
    "            num_tiles_x = width // tile_size\n",
    "            num_tiles_y = height // tile_size\n",
    "\n",
    "            for i in range(num_tiles_y):\n",
    "                for j in range(num_tiles_x):\n",
    "                    # Define window for the tile\n",
    "                    window = Window(j * tile_size, i * tile_size, tile_size, tile_size)\n",
    "\n",
    "                    # Read the tile from the raster\n",
    "                    tile = src.read(window=window)\n",
    "\n",
    "                    # Save the image as JPG using PIL\n",
    "                    img_id = f'{city}_tile_{i}_{j}'\n",
    "                    output_jpg = os.path.join(output_folder, f'{img_id}.jpg')\n",
    "                    img = Image.fromarray(tile.transpose(1, 2, 0))\n",
    "                    img.save(output_jpg)\n",
    "\n",
    "                    # print(f\"Image saved as {output_jpg}\")\n",
    "\n",
    "                    # # Create world file (.jgw) for georeferencing (commented out as per request)\n",
    "                    # world_file = os.path.splitext(output_jpg)[0] + '.jgw'\n",
    "                    # with open(world_file, 'w') as f:\n",
    "                    #     f.write(f'{src.transform.a}\\n')  # Pixel size in the X direction\n",
    "                    #     f.write(f'{src.transform.b}\\n')  # Rotation (0 if north is up)\n",
    "                    #     f.write(f'{src.transform.d}\\n')  # Rotation (0 if north is up)\n",
    "                    #     f.write(f'{src.transform.e}\\n')  # Pixel size in the Y direction (negative value)\n",
    "                    #     f.write(f'{src.transform.c + j * tile_size * src.transform.a}\\n')  # X coord of the upper-left\n",
    "                    #     f.write(f'{src.transform.f + i * tile_size * src.transform.e}\\n')  # Y coord of the upper-left\n",
    "\n",
    "                    # Calculate the bounding box coordinates\n",
    "                    min_x = src.transform.c + j * tile_size * src.transform.a\n",
    "                    max_x = min_x + tile_size * src.transform.a\n",
    "                    max_y = src.transform.f + i * tile_size * src.transform.e\n",
    "                    min_y = max_y + tile_size * src.transform.e\n",
    "\n",
    "                    # Calculate center point coordinates\n",
    "                    center_x = (min_x + max_x) / 2\n",
    "                    center_y = (min_y + max_y) / 2\n",
    "\n",
    "                    # Create grid polygon in WKT format\n",
    "                    grid_polygon = f'POLYGON(({min_x} {min_y}, {min_x} {max_y}, {max_x} {max_y}, {max_x} {min_y}, {min_x} {min_y}))'\n",
    "\n",
    "                    # Record metadata in the CSV\n",
    "                    metadata = {\n",
    "                        'img_id': img_id,\n",
    "                        'city': city,\n",
    "                        'tile_row': i,\n",
    "                        'tile_col': j,\n",
    "                        'tile_width': tile.shape[2],  # Width of the tile\n",
    "                        'tile_height': tile.shape[1],  # Height of the tile\n",
    "                        'x_coord': min_x,\n",
    "                        'y_coord': max_y,\n",
    "                        'center_point': f'POINT({center_x} {center_y})',\n",
    "                        'grid_polygon': grid_polygon\n",
    "                    }\n",
    "                    writer.writerow(metadata)\n",
    "\n",
    "        print(f\"Cutting, conversion, and CSV metadata recording complete! Files saved to {output_folder}\")"
   ]
  },
  {
   "cell_type": "code",
   "execution_count": 3,
   "id": "dc12215c-f530-4308-aa70-935d76af6494",
   "metadata": {},
   "outputs": [
    {
     "name": "stdout",
     "output_type": "stream",
     "text": [
      "Cutting, conversion, and CSV metadata recording complete! Files saved to /Users/wenlanzhang/Downloads/15_13722_2676_大图\n"
     ]
    }
   ],
   "source": [
    "# Example usage\n",
    "input_raster = '/Users/wenlanzhang/Downloads/15_13722_2676_大图/L19/15_13722_2676.tif'  # Input raster file\n",
    "output_folder = '/Users/wenlanzhang/Downloads/15_13722_2676_大图'  # Output folder\n",
    "city = 'BJ'  # City name\n",
    "cut_raster_to_jpg_with_csv(input_raster, output_folder, city)"
   ]
  },
  {
   "cell_type": "code",
   "execution_count": null,
   "id": "46f6c892-389e-4e76-92e2-21ac8fafda3f",
   "metadata": {},
   "outputs": [],
   "source": []
  },
  {
   "cell_type": "code",
   "execution_count": null,
   "id": "b1e4304a-ee7c-45b0-8c08-4bd7bba8031a",
   "metadata": {},
   "outputs": [],
   "source": []
  },
  {
   "cell_type": "code",
   "execution_count": null,
   "id": "c6fe177e-9712-4621-b0ec-4e94e4e8167a",
   "metadata": {},
   "outputs": [],
   "source": []
  }
 ],
 "metadata": {
  "kernelspec": {
   "display_name": "Python 3 (ipykernel)",
   "language": "python",
   "name": "python3"
  },
  "language_info": {
   "codemirror_mode": {
    "name": "ipython",
    "version": 3
   },
   "file_extension": ".py",
   "mimetype": "text/x-python",
   "name": "python",
   "nbconvert_exporter": "python",
   "pygments_lexer": "ipython3",
   "version": "3.10.13"
  },
  "toc": {
   "base_numbering": 1,
   "nav_menu": {},
   "number_sections": true,
   "sideBar": true,
   "skip_h1_title": false,
   "title_cell": "Table of Contents",
   "title_sidebar": "Contents",
   "toc_cell": false,
   "toc_position": {},
   "toc_section_display": true,
   "toc_window_display": false
  }
 },
 "nbformat": 4,
 "nbformat_minor": 5
}
