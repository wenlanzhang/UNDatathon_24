{
 "cells": [
  {
   "cell_type": "markdown",
   "id": "b6c57a3a-a2fc-4f43-8fbd-352ce5e58926",
   "metadata": {},
   "source": [
    "# Create VRT to bring RS back to map"
   ]
  },
  {
   "cell_type": "code",
   "execution_count": 1,
   "id": "18e1c8e2-5dcc-4dc4-b883-18a6b8ccbb11",
   "metadata": {},
   "outputs": [],
   "source": [
    "import rasterio\n",
    "from rasterio.windows import Window\n",
    "from PIL import Image\n",
    "import os\n",
    "import csv"
   ]
  },
  {
   "cell_type": "code",
   "execution_count": 2,
   "id": "d2cc3cbb-65a9-4c2e-8e55-ac1e471633ac",
   "metadata": {},
   "outputs": [],
   "source": [
    "# Function to generate a VRT file for each image\n",
    "def create_vrt_for_tile(output_folder, img_id, tile_width, tile_height, min_x, min_y, max_x, max_y, city):\n",
    "    # Calculate pixel size in X and Y directions\n",
    "    pixel_size_x = (max_x - min_x) / tile_width\n",
    "    pixel_size_y = (min_y - max_y) / tile_height  # Note: Y values are typically decreasing in north-up images\n",
    "    \n",
    "    # VRT content template\n",
    "    vrt_content = f\"\"\"\n",
    "    <VRTDataset rasterXSize=\"{tile_width}\" rasterYSize=\"{tile_height}\">\n",
    "      <SRS>EPSG:4326</SRS>\n",
    "      <GeoTransform>{min_x}, {pixel_size_x}, 0, {max_y}, 0, {pixel_size_y}</GeoTransform>\n",
    "      <VRTRasterBand dataType=\"Byte\" band=\"1\">\n",
    "        <SimpleSource>\n",
    "          <SourceFilename relativeToVRT=\"1\">{img_id}.jpg</SourceFilename>\n",
    "          <SourceBand>1</SourceBand>\n",
    "          <SrcRect xOff=\"0\" yOff=\"0\" xSize=\"{tile_width}\" ySize=\"{tile_height}\"/>\n",
    "          <DstRect xOff=\"0\" yOff=\"0\" xSize=\"{tile_width}\" ySize=\"{tile_height}\"/>\n",
    "        </SimpleSource>\n",
    "      </VRTRasterBand>\n",
    "      <VRTRasterBand dataType=\"Byte\" band=\"2\">\n",
    "        <SimpleSource>\n",
    "          <SourceFilename relativeToVRT=\"1\">{img_id}.jpg</SourceFilename>\n",
    "          <SourceBand>2</SourceBand>\n",
    "          <SrcRect xOff=\"0\" yOff=\"0\" xSize=\"{tile_width}\" ySize=\"{tile_height}\"/>\n",
    "          <DstRect xOff=\"0\" yOff=\"0\" xSize=\"{tile_width}\" ySize=\"{tile_height}\"/>\n",
    "        </SimpleSource>\n",
    "      </VRTRasterBand>\n",
    "      <VRTRasterBand dataType=\"Byte\" band=\"3\">\n",
    "        <SimpleSource>\n",
    "          <SourceFilename relativeToVRT=\"1\">{img_id}.jpg</SourceFilename>\n",
    "          <SourceBand>3</SourceBand>\n",
    "          <SrcRect xOff=\"0\" yOff=\"0\" xSize=\"{tile_width}\" ySize=\"{tile_height}\"/>\n",
    "          <DstRect xOff=\"0\" yOff=\"0\" xSize=\"{tile_width}\" ySize=\"{tile_height}\"/>\n",
    "        </SimpleSource>\n",
    "      </VRTRasterBand>\n",
    "    </VRTDataset>\n",
    "    \"\"\"\n",
    "    \n",
    "    # Save the VRT file\n",
    "    vrt_filename = os.path.join(output_folder, f'{img_id}.vrt')\n",
    "    with open(vrt_filename, 'w') as vrt_file:\n",
    "        vrt_file.write(vrt_content)\n",
    "    \n",
    "    # print(f\"VRT file created for {img_id} at {vrt_filename}\")\n",
    "\n",
    "# Function to read the CSV and process each row\n",
    "def process_csv_and_create_vrt(csv_file, output_folder):\n",
    "    with open(csv_file, 'r') as file:\n",
    "        reader = csv.DictReader(file)\n",
    "        \n",
    "        for row in reader:\n",
    "            img_id = row['img_id']\n",
    "            tile_width = int(row['tile_width'])\n",
    "            tile_height = int(row['tile_height'])\n",
    "            min_x = float(row['x_coord'])  # Top-left X\n",
    "            max_y = float(row['y_coord'])  # Top-left Y\n",
    "            # Extract coordinates from the grid polygon (WKT)\n",
    "            polygon_coords = row['grid_polygon'].replace('POLYGON((', '').replace('))', '').split(', ')\n",
    "            bottom_left = polygon_coords[0].split()  # (min_x, min_y)\n",
    "            min_y = float(bottom_left[1])  # Bottom Y\n",
    "            top_right = polygon_coords[2].split()  # (max_x, max_y)\n",
    "            max_x = float(top_right[0])  # Right X\n",
    "            \n",
    "            # Call the function to create VRT\n",
    "            create_vrt_for_tile(output_folder, img_id, tile_width, tile_height, min_x, min_y, max_x, max_y, row['city'])\n",
    "        print(f\"VRT files created\")"
   ]
  },
  {
   "cell_type": "code",
   "execution_count": 4,
   "id": "f0ecde15-f682-4da0-9b3f-3e4b71813277",
   "metadata": {},
   "outputs": [
    {
     "name": "stdout",
     "output_type": "stream",
     "text": [
      "VRT files created\n"
     ]
    }
   ],
   "source": [
    "csv_file = '/Users/wenlanzhang/Downloads/15_13722_2676_大图/BJ_metadata.csv'  # Path to Img CSV file\n",
    "output_folder = '/Users/wenlanzhang/Downloads/15_13722_2676_大图'  # Folder where VRT files should be saved\n",
    "\n",
    "# Ensure output folder exists\n",
    "os.makedirs(output_folder, exist_ok=True)\n",
    "\n",
    "# Process the CSV and create VRT files\n",
    "process_csv_and_create_vrt(csv_file, output_folder)\n"
   ]
  },
  {
   "cell_type": "code",
   "execution_count": null,
   "id": "6e140071-8259-40f5-b3ed-849f7172af53",
   "metadata": {},
   "outputs": [],
   "source": []
  }
 ],
 "metadata": {
  "kernelspec": {
   "display_name": "Python 3 (ipykernel)",
   "language": "python",
   "name": "python3"
  },
  "language_info": {
   "codemirror_mode": {
    "name": "ipython",
    "version": 3
   },
   "file_extension": ".py",
   "mimetype": "text/x-python",
   "name": "python",
   "nbconvert_exporter": "python",
   "pygments_lexer": "ipython3",
   "version": "3.10.13"
  }
 },
 "nbformat": 4,
 "nbformat_minor": 5
}
